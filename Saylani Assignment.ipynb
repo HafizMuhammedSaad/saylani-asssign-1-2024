{
 "cells": [
  {
   "cell_type": "markdown",
   "id": "0abd8e06-d29b-4012-8e8c-90b5e4230aeb",
   "metadata": {},
   "source": [
    "### Saylani Assignment Part 1"
   ]
  },
  {
   "cell_type": "markdown",
   "id": "65b32c38-3c81-45ee-a45d-d758a93cca3c",
   "metadata": {},
   "source": [
    "##### 1 : Print Your Name with your Father name and Date of birth using suitable escape sequence charactor"
   ]
  },
  {
   "cell_type": "code",
   "execution_count": 1,
   "id": "dc843a1a-b2f2-4d66-9733-ae9601bf693d",
   "metadata": {},
   "outputs": [
    {
     "name": "stdout",
     "output_type": "stream",
     "text": [
      "Name:\t\t Saad\n",
      "Father's Name:\t Sarfaraz Ahmed\n",
      "D_O_B:\t 31-12-2007\n"
     ]
    }
   ],
   "source": [
    "name = \"Saad\"\n",
    "father_name = \"Sarfaraz Ahmed\"\n",
    "d_o_b =\"31-12-2007\"\n",
    "print(\"Name:\\t\\t\", name)\n",
    "print(\"Father's Name:\\t\", father_name)\n",
    "print(\"D_O_B:\\t\", d_o_b)"
   ]
  },
  {
   "cell_type": "markdown",
   "id": "0edfb23c-6049-495b-b075-38870480cb1d",
   "metadata": {},
   "source": [
    "##### 2 : Write your small bio using variables and print it using print function"
   ]
  },
  {
   "cell_type": "code",
   "execution_count": 2,
   "id": "be11277f-6cd5-48da-9bbf-37e6a03a80de",
   "metadata": {},
   "outputs": [
    {
     "name": "stdout",
     "output_type": "stream",
     "text": [
      "name: Saad\n",
      "educational Status: Hafiz-e-Quran, Matric pass\n",
      "experience: Perfumer, Martial Artist\n",
      "dream: I have to become electrical engineer\n"
     ]
    }
   ],
   "source": [
    "name = \"Saad\"\n",
    "educational_status = \"Hafiz-e-Quran, Matric pass\"\n",
    "experience = \"Perfumer, Martial Artist\"\n",
    "dream = \"I have to become electrical engineer\"\n",
    "print(f\"name: {name}\")\n",
    "print(f\"educational Status: {educational_status}\")\n",
    "print(f\"experience: {experience}\")\n",
    "print(f\"dream: {dream}\")\n",
    "\n",
    "\n"
   ]
  },
  {
   "cell_type": "markdown",
   "id": "b866a7a0-cf00-41dc-8449-ba2b681d91ae",
   "metadata": {},
   "source": [
    "##### 3 : Write a program in which use all the operators we can use in Python"
   ]
  },
  {
   "cell_type": "code",
   "execution_count": 3,
   "id": "dd4408fc-c1c9-4c58-ab08-fa167eb1160b",
   "metadata": {},
   "outputs": [
    {
     "name": "stdout",
     "output_type": "stream",
     "text": [
      "y+z = 30\n",
      "y-z = 20\n",
      "y*z = 125\n",
      "y/z = 5.0\n",
      "y//z = 5\n",
      "y%z = 0\n",
      "y**z = 9765625\n"
     ]
    }
   ],
   "source": [
    "#Arithematic operator\n",
    "y = 25\n",
    "z = 5\n",
    "\n",
    "print(f\"y+z = {y+z}\") #Adding operator \n",
    "print(f\"y-z = {y-z}\") #Subtracting operator\n",
    "print(f\"y*z = {y*z}\") #Multiplication operator \n",
    "print(f\"y/z = {y/z}\") #Division operator\n",
    "print(f\"y//z = {y//z}\") #round-off at lower point operator\n",
    "print(f\"y%z = {y%z}\") #Modulus operator\n",
    "print(f\"y**z = {y**z}\") #Power operator"
   ]
  },
  {
   "cell_type": "code",
   "execution_count": 4,
   "id": "32c9b18f-cbc1-4266-94b3-b54b8166bd74",
   "metadata": {},
   "outputs": [
    {
     "name": "stdout",
     "output_type": "stream",
     "text": [
      "f==g : False\n",
      "f!=g : True\n",
      "f<g : True\n",
      "f>g : False\n",
      "f<=g : True\n",
      "f>=g : False\n"
     ]
    }
   ],
   "source": [
    "#Comparision operator\n",
    "f = 10\n",
    "g = 15\n",
    "\n",
    "print(f\"f==g : {f==g}\") #Equal to (==) Comparision operator\n",
    "print(f\"f!=g : {f!=g}\") #Not equal to (!=) Comparision operator\n",
    "print(f\"f<g : {f<g}\") #Less than (<) Comparision operator\n",
    "print(f\"f>g : {f>g}\") #Greater than (>) Comparision operator\n",
    "print(f\"f<=g : {f<=g}\") #Less than equal to (<=) Comparision operator\n",
    "print(f\"f>=g : {f>=g}\") #Greater than equal to (>=) Comparision operator\n"
   ]
  },
  {
   "cell_type": "markdown",
   "id": "06cb04ac-0f77-4e57-a738-4bc296dc9343",
   "metadata": {},
   "source": [
    "##### 4 : Completes the following steps of small task:\n",
    "Mention Marks of English , Islamiat and Maths out of 100 in 3 different variables\n",
    "Mention Variable of Total Marks and assign 300 to it\n",
    "Calculate Percentage"
   ]
  },
  {
   "cell_type": "code",
   "execution_count": 5,
   "id": "68fc4c76-c1ca-4eac-a290-c4cda59c4759",
   "metadata": {},
   "outputs": [
    {
     "name": "stdout",
     "output_type": "stream",
     "text": [
      "English_marks: 80\n",
      "Islamiat_marks: 70\n",
      "Mathematics_marks: 90\n",
      "Total_marks: 300\n",
      "Percentage: 80.0\n"
     ]
    }
   ],
   "source": [
    "#Marks of subject out of 100\n",
    "English_marks = 80\n",
    "Islamiat_marks = 70\n",
    "Mathematics_marks = 90\n",
    "\n",
    "#Total marks that are given \n",
    "Total_marks = 300\n",
    "\n",
    "#percentage formula\n",
    "Percentage = (English_marks + Islamiat_marks + Mathematics_marks)/Total_marks * 100\n",
    "\n",
    "#Calculation of Marks of subject, Total_marks and percentage\n",
    "print(f\"English_marks: {English_marks}\")\n",
    "print(f\"Islamiat_marks: {Islamiat_marks}\")\n",
    "print(f\"Mathematics_marks: {Mathematics_marks}\")\n",
    "print(f\"Total_marks: {Total_marks}\")\n",
    "print(f\"Percentage: {Percentage}\")"
   ]
  },
  {
   "cell_type": "markdown",
   "id": "00877672",
   "metadata": {},
   "source": [
    "### Part 2 (Conditional statements)"
   ]
  },
  {
   "cell_type": "markdown",
   "id": "0cdd0293",
   "metadata": {},
   "source": [
    "##### 1 : A company decided to give bonus of 5% to employee if his/her year of service is more than 5 years. Ask user for their salary and year of service and print the net bonus amount."
   ]
  },
  {
   "cell_type": "code",
   "execution_count": 8,
   "id": "e221d91c",
   "metadata": {},
   "outputs": [
    {
     "name": "stdout",
     "output_type": "stream",
     "text": [
      "Congratulations! You are eligible for a 5% bonus.\n",
      "Your bonus amount is: Rs610.55\n"
     ]
    }
   ],
   "source": [
    "salary = float(input(\"Enter your salary: \"))\n",
    "years_of_service = int(input(\"Enter your years of service: \"))\n",
    "\n",
    "# Checking if the employee is eligible for bonus\n",
    "if years_of_service > 5:\n",
    "    bonus_percentage = 5  # 5% bonus\n",
    "    bonus_amount = (bonus_percentage / 100) * salary\n",
    "    print(f\"Congratulations! You are eligible for a {bonus_percentage}% bonus.\")\n",
    "    print(f\"Your bonus amount is: Rs{bonus_amount:.2f}\")\n",
    "else:\n",
    "    print(\"Sorry, you are not eligible for a bonus.\")"
   ]
  },
  {
   "cell_type": "markdown",
   "id": "8850ca8e",
   "metadata": {},
   "source": [
    "##### 2 : Write a program to check whether a person is eligible for voting or not. (accept age from user) if age is greater than 17 eligible otherwise not eligible"
   ]
  },
  {
   "cell_type": "code",
   "execution_count": 9,
   "id": "b2dce06c",
   "metadata": {},
   "outputs": [
    {
     "name": "stdout",
     "output_type": "stream",
     "text": [
      "You'r eligible to vote\n"
     ]
    }
   ],
   "source": [
    "age = int(input(\"Enter your age\"))\n",
    "\n",
    "if age > 17:\n",
    "    print(\"You'r eligible to vote\")\n",
    "else:\n",
    "    print(\"You're not eligible to vote\")"
   ]
  },
  {
   "cell_type": "markdown",
   "id": "d2edf647",
   "metadata": {},
   "source": [
    "##### 3 : Write a program to check whether a number entered by user is even or odd."
   ]
  },
  {
   "cell_type": "code",
   "execution_count": 11,
   "id": "c431ac75",
   "metadata": {},
   "outputs": [
    {
     "name": "stdout",
     "output_type": "stream",
     "text": [
      "3 is odd.\n"
     ]
    }
   ],
   "source": [
    "number = int(input(\"Enter a number: \"))\n",
    "\n",
    "# Checking even or odd\n",
    "if number % 2 == 0:\n",
    "    print(f\"{number} is even.\")\n",
    "else:\n",
    "    print(f\"{number} is odd.\")"
   ]
  },
  {
   "cell_type": "markdown",
   "id": "7e1c405d",
   "metadata": {},
   "source": [
    "##### 4 : Write a program to check whether a number is divisible by 7 or not. Show Answer"
   ]
  },
  {
   "cell_type": "code",
   "execution_count": 14,
   "id": "be286ba7",
   "metadata": {},
   "outputs": [
    {
     "name": "stdout",
     "output_type": "stream",
     "text": [
      "21 is divisible.\n"
     ]
    }
   ],
   "source": [
    "number = int(input(\"Enter a number: \"))\n",
    "\n",
    "\n",
    "if number % 7 == 0:\n",
    "    print(f\"{number} is divisible.\")\n",
    "else:\n",
    "    print(f\"{number} is not divisible.\")\n"
   ]
  },
  {
   "cell_type": "markdown",
   "id": "a717c22b",
   "metadata": {},
   "source": [
    "##### 5 : Write a program to display \"Hello\" if a number entered by user is a multiple of five , otherwise print \"Bye\"."
   ]
  },
  {
   "cell_type": "code",
   "execution_count": 16,
   "id": "7a024ce3",
   "metadata": {},
   "outputs": [
    {
     "name": "stdout",
     "output_type": "stream",
     "text": [
      "Hello\n"
     ]
    }
   ],
   "source": [
    "number = int(input(\"Enter a number:\"))\n",
    "\n",
    "if number % 5 == 0:\n",
    "    print(\"Hello\")\n",
    "else:\n",
    "    print(\"Bye\")"
   ]
  },
  {
   "cell_type": "markdown",
   "id": "a17147e5",
   "metadata": {},
   "source": [
    "##### 7 : Write a program to display the last digit of a number."
   ]
  },
  {
   "cell_type": "code",
   "execution_count": 17,
   "id": "cff700b0",
   "metadata": {},
   "outputs": [
    {
     "name": "stdout",
     "output_type": "stream",
     "text": [
      "The last digit of 10 is: 0\n"
     ]
    }
   ],
   "source": [
    "number = int(input(\"Enter a number: \"))\n",
    "\n",
    "\n",
    "last_digit = number % 10\n",
    "\n",
    "\n",
    "print(f\"The last digit of {number} is: {last_digit}\")"
   ]
  },
  {
   "cell_type": "markdown",
   "id": "6d9297a6",
   "metadata": {},
   "source": [
    "##### 9 : Take values of length and breadth of a rectangle from user and print if it is square or rectangle."
   ]
  },
  {
   "cell_type": "code",
   "execution_count": 18,
   "id": "1ac489b2",
   "metadata": {},
   "outputs": [
    {
     "name": "stdout",
     "output_type": "stream",
     "text": [
      "It is a square.\n"
     ]
    }
   ],
   "source": [
    "length = float(input(\"Enter the length of the rectangle: \"))\n",
    "breadth = float(input(\"Enter the breadth of the rectangle: \"))\n",
    "\n",
    "\n",
    "if length == breadth:\n",
    "    print(\"It is a square.\")\n",
    "else:\n",
    "    print(\"It is a rectangle.\")"
   ]
  },
  {
   "cell_type": "markdown",
   "id": "0b8d2bd0",
   "metadata": {},
   "source": [
    "##### 10 : Take two int values from user and print greatest among them."
   ]
  },
  {
   "cell_type": "code",
   "execution_count": 19,
   "id": "4bdd93df",
   "metadata": {},
   "outputs": [
    {
     "name": "stdout",
     "output_type": "stream",
     "text": [
      "The greatest number is: 2\n"
     ]
    }
   ],
   "source": [
    "num1 = int(input(\"Enter the first integer: \"))\n",
    "num2 = int(input(\"Enter the second integer: \"))\n",
    "\n",
    "# Finding the greatest number\n",
    "if num1 > num2:\n",
    "    print(f\"The greatest number is: {num1}\")\n",
    "elif num2 > num1:\n",
    "    print(f\"The greatest number is: {num2}\")\n",
    "else:\n",
    "    print(\"Both numbers are equal.\")"
   ]
  },
  {
   "cell_type": "markdown",
   "id": "8884e5b8",
   "metadata": {},
   "source": [
    "##### 11 : A shop will give discount of 10% if the cost of purchased quantity is more than 1000. Ask user for quantity Suppose, one unit will cost 100. Judge and print total cost for user."
   ]
  },
  {
   "cell_type": "code",
   "execution_count": 21,
   "id": "57005230",
   "metadata": {},
   "outputs": [
    {
     "name": "stdout",
     "output_type": "stream",
     "text": [
      "Total cost after applying 10% discount: Rs990.00\n"
     ]
    }
   ],
   "source": [
    "cost_per_unit = 100\n",
    "discount_threshold = 1000\n",
    "discount_rate = 0.1  # 10%\n",
    "\n",
    "# Taking input from user\n",
    "quantity = int(input(\"Enter the quantity you want to purchase: \"))\n",
    "\n",
    "# Calculating total cost\n",
    "total_cost = quantity * cost_per_unit\n",
    "\n",
    "# Applying discount if total cost exceeds discount threshold\n",
    "if total_cost > discount_threshold:\n",
    "    discount_amount = total_cost * discount_rate\n",
    "    discounted_total_cost = total_cost - discount_amount\n",
    "    print(f\"Total cost after applying 10% discount: Rs{discounted_total_cost:.2f}\")\n",
    "else:\n",
    "    print(f\"Total cost: Rs{total_cost:.2f}\")\n",
    "\n",
    "\n"
   ]
  },
  {
   "cell_type": "markdown",
   "id": "1650d4d4",
   "metadata": {},
   "source": [
    "##### 12 : A school has following rules for grading system:\n",
    "a. Below 25 - F\n",
    "\n",
    "b. 25 to 45 - E\n",
    "\n",
    "c. 45 to 50 - D\n",
    "\n",
    "d. 50 to 60 - C\n",
    "\n",
    "e. 60 to 80 - B\n",
    "\n",
    "f. Above 80 - A\n",
    "\n",
    "Ask user to enter marks and print the corresponding grade."
   ]
  },
  {
   "cell_type": "code",
   "execution_count": 22,
   "id": "faf3c922",
   "metadata": {},
   "outputs": [
    {
     "name": "stdout",
     "output_type": "stream",
     "text": [
      "Your grade based on marks 85.0 is: A\n"
     ]
    }
   ],
   "source": [
    "marks = float(input(\"Enter your marks: \"))\n",
    "\n",
    "# Determining the grade based on marks\n",
    "if marks < 25:\n",
    "    grade = \"F\"\n",
    "elif marks >= 25 and marks < 45:\n",
    "    grade = \"E\"\n",
    "elif marks >= 45 and marks < 50:\n",
    "    grade = \"D\"\n",
    "elif marks >= 50 and marks < 60:\n",
    "    grade = \"C\"\n",
    "elif marks >= 60 and marks < 80:\n",
    "    grade = \"B\"\n",
    "else:\n",
    "    grade = \"A\"\n",
    "\n",
    "# Printing the grade\n",
    "print(f\"Your grade based on marks {marks} is: {grade}\")"
   ]
  },
  {
   "cell_type": "markdown",
   "id": "b43811c0",
   "metadata": {},
   "source": [
    "##### 14 : A student will not be allowed to sit in exam if his/her attendence is less than 75%.\n",
    "\n",
    "Take following input from user\n",
    "\n",
    "Number of classes held\n",
    "\n",
    "Number of classes attended.\n",
    "\n",
    "And print\n",
    "\n",
    "percentage of class attended\n",
    "\n",
    "Is student is allowed to sit in exam or not."
   ]
  },
  {
   "cell_type": "code",
   "execution_count": 23,
   "id": "2920c4a2",
   "metadata": {},
   "outputs": [
    {
     "name": "stdout",
     "output_type": "stream",
     "text": [
      "Attendance percentage: 100.00%\n",
      "You are allowed to sit in the exam.\n"
     ]
    }
   ],
   "source": [
    "classes_held = int(input(\"Enter the number of classes held: \"))\n",
    "classes_attended = int(input(\"Enter the number of classes attended: \"))\n",
    "\n",
    "# Calculating attendance percentage\n",
    "attendance_percentage = (classes_attended / classes_held) * 100\n",
    "\n",
    "# Determining if the student is allowed to sit in the exam\n",
    "if attendance_percentage >= 75:\n",
    "    print(f\"Attendance percentage: {attendance_percentage:.2f}%\")\n",
    "    print(\"You are allowed to sit in the exam.\")\n",
    "else:\n",
    "    print(f\"Attendance percentage: {attendance_percentage:.2f}%\")\n",
    "    print(\"You are not allowed to sit in the exam.\")"
   ]
  },
  {
   "cell_type": "markdown",
   "id": "8045e041",
   "metadata": {},
   "source": [
    "##### 15 : Modify the above question to allow student to sit if he/she has medical cause. Ask user if he/she has medical cause or not ( 'Y' or 'N' ) and print accordingly."
   ]
  },
  {
   "cell_type": "code",
   "execution_count": 1,
   "id": "795e1dcf",
   "metadata": {},
   "outputs": [
    {
     "name": "stdout",
     "output_type": "stream",
     "text": [
      "You are allowed to sit.\n"
     ]
    }
   ],
   "source": [
    "medical_cause = input(\"Do you have a medical cause for sitting? (Y/N): \")\n",
    "\n",
    "if medical_cause.upper() == 'Y':\n",
    "    print(\"You are allowed to sit.\")\n",
    "elif medical_cause.upper() == 'N':\n",
    "    print(\"You are not allowed to sit.\")\n",
    "else:\n",
    "    print(\"Invalid input. Please enter 'Y' or 'N'.\")"
   ]
  },
  {
   "cell_type": "markdown",
   "id": "269fe403",
   "metadata": {},
   "source": [
    "##### 16 : Write a program to check if a year is leap year or not.\n",
    "If a year is divisible by 4 then it is leap year but if the year is century year like 2000, 1900, 2100 then it must be divisible by 400."
   ]
  },
  {
   "cell_type": "code",
   "execution_count": 2,
   "id": "126813b3",
   "metadata": {},
   "outputs": [
    {
     "name": "stdout",
     "output_type": "stream",
     "text": [
      "1900 is not a leap year.\n"
     ]
    }
   ],
   "source": [
    "def is_leap_year(year):\n",
    "    if (year % 4 == 0 and year % 100 != 0) or (year % 400 == 0):\n",
    "        return True\n",
    "    else:\n",
    "        return False\n",
    "\n",
    "# Taking input from the user\n",
    "year = int(input(\"Enter a year: \"))\n",
    "\n",
    "if is_leap_year(year):\n",
    "    print(f\"{year} is a leap year.\")\n",
    "else:\n",
    "    print(f\"{year} is not a leap year.\")\n"
   ]
  },
  {
   "cell_type": "markdown",
   "id": "8b701901",
   "metadata": {},
   "source": [
    "##### 16 : Ask user to enter age, gender ( M or F ), marital status ( Y or N ) and then using following rules print their place of service.\n",
    "if employee is female, then she will work only in urban areas.\n",
    "\n",
    "if employee is a male and age is in between 20 to 40 then he may work in anywhere\n",
    "\n",
    "if employee is male and age is in between 40 t0 60 then he will work in urban areas only.\n",
    "\n",
    "And any other input of age should print \"ERROR\""
   ]
  },
  {
   "cell_type": "code",
   "execution_count": 4,
   "id": "74409f5d",
   "metadata": {},
   "outputs": [
    {
     "name": "stdout",
     "output_type": "stream",
     "text": [
      "He may work anywhere.\n"
     ]
    }
   ],
   "source": [
    "\n",
    "def place_of_service(age, gender, marital_status):\n",
    "    if gender == 'F':\n",
    "        print(\"She will work only in urban areas.\")\n",
    "    elif gender == 'M':\n",
    "        if 20 <= age <= 40:\n",
    "            print(\"He may work anywhere.\")\n",
    "        elif 40 <= age <= 60:\n",
    "            print(\"He will work in urban areas only.\")\n",
    "        else:\n",
    "            print(\"ERROR: Age out of valid range (20-60).\")\n",
    "    else:\n",
    "        print(\"ERROR: Invalid gender input (M or F).\")\n",
    "\n",
    "# Taking input from the user\n",
    "age = int(input(\"Enter age: \"))\n",
    "gender = input(\"Enter gender (M/F): \").upper()\n",
    "marital_status = input(\"Enter marital status (Y/N): \").upper()\n",
    "\n",
    "# Checking place of service based on inputs\n",
    "if marital_status == 'Y' or marital_status == 'N':\n",
    "    place_of_service(age, gender, marital_status)\n",
    "else:\n",
    "    print(\"ERROR: Invalid marital status input (Y or N).\")"
   ]
  },
  {
   "cell_type": "markdown",
   "id": "b052b395",
   "metadata": {},
   "source": [
    "##### 6 : Write a program to calculate the electricity bill (accept number of unit from user) according to the following criteria : Unit Price\n",
    "uptp 100 units no charge Next 200 units Rs 5 per unit After 200 units Rs 10 per unit (For example if input unit is 350 than total bill amount is Rs.3500 (For example if input unit is 97 than total bill amount is Rs.0 (For example if input unit is 150 than total bill amount is Rs.750"
   ]
  },
  {
   "cell_type": "code",
   "execution_count": 6,
   "id": "ab205020",
   "metadata": {},
   "outputs": [
    {
     "name": "stdout",
     "output_type": "stream",
     "text": [
      "The electricity bill amount for 1 units is Rs. 0\n"
     ]
    }
   ],
   "source": [
    "def calculate_electricity_bill(units):\n",
    "    if units <= 100:\n",
    "        bill_amount = 0\n",
    "    elif units <= 300:\n",
    "        bill_amount = (units - 100) * 5\n",
    "    else:\n",
    "        bill_amount = 200 * 5 + (units - 300) * 10\n",
    "    \n",
    "    return bill_amount\n",
    "\n",
    "# Taking input from the user\n",
    "units = int(input(\"Enter the number of units consumed: \"))\n",
    "\n",
    "# Calculate electricity bill\n",
    "bill = calculate_electricity_bill(units)\n",
    "\n",
    "# Print the bill amount\n",
    "print(f\"The electricity bill amount for {units} units is Rs. {bill}\")"
   ]
  },
  {
   "cell_type": "markdown",
   "id": "d80bf150",
   "metadata": {},
   "source": [
    "##### 13 : Take input of age of 3 people by user and determine oldest and youngest among them."
   ]
  },
  {
   "cell_type": "code",
   "execution_count": 7,
   "id": "645e9f40",
   "metadata": {},
   "outputs": [
    {
     "name": "stdout",
     "output_type": "stream",
     "text": [
      "The oldest person is 32 years old.\n",
      "The youngest person is 10 years old.\n"
     ]
    }
   ],
   "source": [
    "age1 = int(input(\"Enter age of person 1: \"))\n",
    "age2 = int(input(\"Enter age of person 2: \"))\n",
    "age3 = int(input(\"Enter age of person 3: \"))\n",
    "\n",
    "# Determine oldest and youngest\n",
    "oldest = max(age1, age2, age3)\n",
    "youngest = min(age1, age2, age3)\n",
    "\n",
    "# Print the results\n",
    "print(f\"The oldest person is {oldest} years old.\")\n",
    "print(f\"The youngest person is {youngest} years old.\")"
   ]
  }
 ],
 "metadata": {
  "kernelspec": {
   "display_name": "Python 3 (ipykernel)",
   "language": "python",
   "name": "python3"
  },
  "language_info": {
   "codemirror_mode": {
    "name": "ipython",
    "version": 3
   },
   "file_extension": ".py",
   "mimetype": "text/x-python",
   "name": "python",
   "nbconvert_exporter": "python",
   "pygments_lexer": "ipython3",
   "version": "3.12.3"
  }
 },
 "nbformat": 4,
 "nbformat_minor": 5
}
